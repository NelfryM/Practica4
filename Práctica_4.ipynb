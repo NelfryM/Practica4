{
  "nbformat": 4,
  "nbformat_minor": 0,
  "metadata": {
    "colab": {
      "provenance": [],
      "authorship_tag": "ABX9TyMFlD6kXid1xIWF2i8pg2LI",
      "include_colab_link": true
    },
    "kernelspec": {
      "name": "python3",
      "display_name": "Python 3"
    },
    "language_info": {
      "name": "python"
    }
  },
  "cells": [
    {
      "cell_type": "markdown",
      "metadata": {
        "id": "view-in-github",
        "colab_type": "text"
      },
      "source": [
        "<a href=\"https://colab.research.google.com/github/NelfryM/Python-Assembler/blob/main/Pr%C3%A1ctica_4.ipynb\" target=\"_parent\"><img src=\"https://colab.research.google.com/assets/colab-badge.svg\" alt=\"Open In Colab\"/></a>"
      ]
    },
    {
      "cell_type": "markdown",
      "source": [
        "# **Ejercicio 1: Multiplicar todos los elementos por 3**\n",
        "\n",
        "#Dada una lista de números, multiplica todos los elementos por 3.\n",
        "\n",
        "#numeros = [1, 2, 3, 4, 5]"
      ],
      "metadata": {
        "id": "RUKh3Ul5j-rw"
      }
    },
    {
      "cell_type": "code",
      "execution_count": null,
      "metadata": {
        "colab": {
          "base_uri": "https://localhost:8080/"
        },
        "id": "_qxWH0iBjMpU",
        "outputId": "54c6383f-fe84-4ba9-bfed-6d8420ab8af0"
      },
      "outputs": [
        {
          "output_type": "stream",
          "name": "stdout",
          "text": [
            "[3, 6, 9, 12, 15]\n"
          ]
        }
      ],
      "source": [
        "numero = [1,2,3,4,5]\n",
        "multiplica_x_3= lambda x: x*3\n",
        "resultado = list(map(multiplica_x_3,numero))\n",
        "print(resultado)"
      ]
    },
    {
      "cell_type": "markdown",
      "source": [
        "#**Ejercicio 2: Filtrar números mayores a 10**\n",
        "#Dada una lista de números, filtra los números que son mayores a 10.\n",
        "#numeros = [5, 10, 15, 20, 25]"
      ],
      "metadata": {
        "id": "oheYDw0Nj-3P"
      }
    },
    {
      "cell_type": "code",
      "source": [
        "numeros = [5, 10, 15, 20, 25]\n",
        "mayor_a_10 = lambda x: x > 10\n",
        "resultMayor = list(filter(mayor_a_10,numeros))\n",
        "print(resultadoMayor)"
      ],
      "metadata": {
        "colab": {
          "base_uri": "https://localhost:8080/"
        },
        "id": "tZYqm5NAl5eL",
        "outputId": "21f6c538-4318-46ea-fd7b-acc65c053d56"
      },
      "execution_count": null,
      "outputs": [
        {
          "output_type": "stream",
          "name": "stdout",
          "text": [
            "[15, 20, 25]\n"
          ]
        }
      ]
    },
    {
      "cell_type": "markdown",
      "source": [
        "#**Ejercicio 3: Convertir una lista de palabras a mayúsculas**\n",
        "#Dada una lista de palabras, conviértelas todas a mayúsculas.\n",
        "#palabras = [\"hola\", \"mundo\", \"python\"]"
      ],
      "metadata": {
        "id": "MZGs3UuQj_Cb"
      }
    },
    {
      "cell_type": "code",
      "source": [
        "palabras = [\"hola\", \"mundo\", \"python\"]\n",
        "covertMayus = lambda x: x.upper()\n",
        "resultMayus = list(map(covertMayus,palabras))\n",
        "print(resultMayus)"
      ],
      "metadata": {
        "colab": {
          "base_uri": "https://localhost:8080/"
        },
        "id": "RTKOn69SmX1L",
        "outputId": "fabd9bf0-e79e-43b8-f046-ff00de6f7c8d"
      },
      "execution_count": null,
      "outputs": [
        {
          "output_type": "stream",
          "name": "stdout",
          "text": [
            "['HOLA', 'MUNDO', 'PYTHON']\n"
          ]
        }
      ]
    },
    {
      "cell_type": "markdown",
      "source": [
        "#**Ejercicio 4: Filtrar palabras que empiezan con 'p'**\n",
        "#Dada una lista de palabras, filtra aquellas que comienzan con la letra 'p'.\n",
        "#palabras = [\"hola\", \"mundo\", \"python\", \"programacion\"]"
      ],
      "metadata": {
        "id": "Hi0VZEHcj_Mj"
      }
    },
    {
      "cell_type": "code",
      "source": [
        "palabras = [\"hola\", \"mundo\", \"python\", \"programacion\"]\n",
        "filtrar_p = lambda x: x.startswith(\"p\")\n",
        "resultFiltrar = list(filter(filtrar_p,palabras))\n",
        "print(resultFiltrar)"
      ],
      "metadata": {
        "colab": {
          "base_uri": "https://localhost:8080/"
        },
        "id": "JMwTSX1nnZ_g",
        "outputId": "f806f190-3f36-4257-ae2a-0d21818bb4f1"
      },
      "execution_count": null,
      "outputs": [
        {
          "output_type": "stream",
          "name": "stdout",
          "text": [
            "['python', 'programacion']\n"
          ]
        }
      ]
    },
    {
      "cell_type": "markdown",
      "source": [
        "#**Ejercicio 5: Calcular la longitud de cada palabra**\n",
        "#Dada una lista de palabras, calcula la longitud de cada una.\n",
        "#palabras = [\"hola\", \"mundo\", \"python\"]"
      ],
      "metadata": {
        "id": "GRD55elfj_W5"
      }
    },
    {
      "cell_type": "code",
      "source": [
        "palabras == [\"hola\", \"mundo\", \"python\"]\n",
        "longitud = lambda x: len(x)\n",
        "resultLongitud = list(map(longitud,palabras))\n",
        "print(resultLongitud)"
      ],
      "metadata": {
        "id": "cUdJYtudoDVy"
      },
      "execution_count": null,
      "outputs": []
    },
    {
      "cell_type": "markdown",
      "source": [
        "#**Ejercicio 6: Filtrar palabras con longitud mayor a 4**\n",
        "#Dada una lista de palabras, filtra aquellas que tienen una longitud mayor a 4.\n",
        "#palabras = [\"hola\", \"mundo\", \"python\", \"hi\"]"
      ],
      "metadata": {
        "id": "yw9z8xlhj_fw"
      }
    },
    {
      "cell_type": "code",
      "source": [
        "palabras = [\"hola\", \"mundo\", \"python\", \"hi\"]\n",
        "longitMayor4 = lambda x: len(x) > 4\n",
        "resultLongitud = list(filter(longitMayor4,palabras))\n",
        "print(resultLongitud)"
      ],
      "metadata": {
        "colab": {
          "base_uri": "https://localhost:8080/"
        },
        "id": "BIByRVHCoSPh",
        "outputId": "900c40b3-02e0-47f9-f38c-ef9ddf31fa9c"
      },
      "execution_count": null,
      "outputs": [
        {
          "output_type": "stream",
          "name": "stdout",
          "text": [
            "['mundo', 'python']\n"
          ]
        }
      ]
    },
    {
      "cell_type": "markdown",
      "source": [
        "#**Ejercicio 7: Convertir una lista de temperaturas de Celsius a Fahrenheit**\n",
        "#Dada una lista de temperaturas en Celsius, conviértelas a Fahrenheit.\n",
        "#celsius = [0, 20, 37, 100]"
      ],
      "metadata": {
        "id": "zS8UTEZ2j_oN"
      }
    },
    {
      "cell_type": "code",
      "source": [
        "celsius = [0, 20, 37, 100]\n",
        "fahrenheit = lambda x: (x * 9/5) + 32\n",
        "resultFahrenheit = list(map(fahrenheit,celsius))\n",
        "print(resultFahrenheit)"
      ],
      "metadata": {
        "colab": {
          "base_uri": "https://localhost:8080/"
        },
        "id": "n8dTDbTxooZE",
        "outputId": "d7aebaf7-88a0-4844-e429-d269aa89b83f"
      },
      "execution_count": null,
      "outputs": [
        {
          "output_type": "stream",
          "name": "stdout",
          "text": [
            "[32.0, 68.0, 98.6, 212.0]\n"
          ]
        }
      ]
    },
    {
      "cell_type": "markdown",
      "source": [
        "#**Ejercicio 8: Filtrar temperaturas mayores a 50 grados Fahrenheit**\n",
        "#Dada una lista de temperaturas en Fahrenheit, filtra aquellas que son mayores a 50 grados.\n",
        "#fahrenheit = [32.0, 68.0, 98.6, 212.0]"
      ],
      "metadata": {
        "id": "JRwF7rccj_wn"
      }
    },
    {
      "cell_type": "code",
      "source": [
        "fahrenheit = [32.0, 68.0, 98.6, 212.0]\n",
        "tempMayor50 = lambda x: x > 50\n",
        "resultTempMayor = list(filter(tempMayor50,fahrenheit))\n",
        "print(resultTempMayor)"
      ],
      "metadata": {
        "colab": {
          "base_uri": "https://localhost:8080/"
        },
        "id": "RnP1IG2eo0gp",
        "outputId": "b948eab2-b6aa-49af-c4d3-e159da9c6742"
      },
      "execution_count": null,
      "outputs": [
        {
          "output_type": "stream",
          "name": "stdout",
          "text": [
            "[68.0, 98.6, 212.0]\n"
          ]
        }
      ]
    },
    {
      "cell_type": "markdown",
      "source": [
        "#**Ejercicio 9: Sumar 5 a todos los elementos de una lista**\n",
        "#Dada una lista de números, suma 5 a cada uno de ellos.\n",
        "#numeros = [1, 2, 3, 4, 5]"
      ],
      "metadata": {
        "id": "a33gGvdkj_41"
      }
    },
    {
      "cell_type": "code",
      "source": [
        "numeros=[1, 2, 3, 4, 5]\n",
        "sum5 = lambda x: x+5\n",
        "resultSum5=list(map(sum5,numeros))\n",
        "print(resultSum5)"
      ],
      "metadata": {
        "colab": {
          "base_uri": "https://localhost:8080/"
        },
        "id": "TqWLDz6QpPfs",
        "outputId": "951a047b-8132-48ab-fd9a-d676678c1f58"
      },
      "execution_count": null,
      "outputs": [
        {
          "output_type": "stream",
          "name": "stdout",
          "text": [
            "[6, 7, 8, 9, 10]\n"
          ]
        }
      ]
    },
    {
      "cell_type": "markdown",
      "source": [
        "#**Ejercicio 10: Filtrar palabras que contienen la letra 'a'**\n",
        "#Dada una lista de palabras, filtra aquellas que contienen la letra 'a'.\n",
        "#palabras = [\"hola\", \"mundo\", \"python\", \"vida\"]"
      ],
      "metadata": {
        "id": "Ako5--capwYc"
      }
    },
    {
      "cell_type": "code",
      "source": [
        "palabras = [\"hola\", \"mundo\", \"python\", \"vida\"]\n",
        "filtrar_a = lambda x: \"a\" in x\n",
        "resultFiltrar = list(filter(filtrar_a,palabras))\n",
        "print(resultFiltrar)"
      ],
      "metadata": {
        "colab": {
          "base_uri": "https://localhost:8080/"
        },
        "id": "DY6If9KuqDMh",
        "outputId": "5ecfc811-d36c-41ed-c6fe-faba4e4630f6"
      },
      "execution_count": null,
      "outputs": [
        {
          "output_type": "stream",
          "name": "stdout",
          "text": [
            "['hola', 'vida']\n"
          ]
        }
      ]
    }
  ]
}